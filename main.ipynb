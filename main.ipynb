{
 "cells": [
  {
   "cell_type": "code",
   "execution_count": null,
   "id": "2767ad68",
   "metadata": {},
   "outputs": [],
   "source": [
    "import numpy as np\n",
    "import pandas as pd\n",
    "import ast\n",
    "import nltk\n",
    "import random"
   ]
  },
  {
   "cell_type": "code",
   "execution_count": null,
   "id": "ba24b016",
   "metadata": {},
   "outputs": [],
   "source": [
    "movies = pd.read_csv(\"tmdb_5000_movies.csv\")\n",
    "credits = pd.read_csv(\"tmdb_5000_credits.csv\")"
   ]
  },
  {
   "cell_type": "code",
   "execution_count": null,
   "id": "c2c6576c",
   "metadata": {},
   "outputs": [],
   "source": [
    "movies.info()\n",
    "credits.info()"
   ]
  },
  {
   "cell_type": "code",
   "execution_count": null,
   "id": "5ba5b026",
   "metadata": {},
   "outputs": [],
   "source": [
    "# Preprocessing\n",
    "# manipulating the data according to our need\n",
    "\n",
    "# columns we need\n",
    "# movie_id, title, genre, id, keywords, overview, cast, crew\n",
    "\n",
    "# <----merging the two data sets and keeping relevant columns---->\n",
    "movies=movies.merge(credits, on=\"title\")\n",
    "new_movies=movies[[\"genres\",\"title\", \"id\", \"keywords\", \"overview\", \"cast\", \"crew\"]]"
   ]
  },
  {
   "cell_type": "code",
   "execution_count": null,
   "id": "6a8eb511",
   "metadata": {
    "scrolled": false
   },
   "outputs": [],
   "source": [
    "new_movies.head(1)"
   ]
  },
  {
   "cell_type": "code",
   "execution_count": null,
   "id": "2ecd7e9f",
   "metadata": {},
   "outputs": [],
   "source": [
    "# checking if there is any missing data\n",
    "# next we remove that data and we check again, so the flow goes\n",
    "# new_movies.isnull().sum()\n",
    "# new_movies.dropna()\n",
    "# new_movies.isnull().sum()\n",
    "\n",
    "new_movies.isnull().sum()"
   ]
  },
  {
   "cell_type": "code",
   "execution_count": null,
   "id": "06bd18e7",
   "metadata": {},
   "outputs": [],
   "source": [
    "new_movies=new_movies.dropna()"
   ]
  },
  {
   "cell_type": "code",
   "execution_count": null,
   "id": "5dcd8603",
   "metadata": {},
   "outputs": [],
   "source": [
    "new_movies.isnull().sum()"
   ]
  },
  {
   "cell_type": "code",
   "execution_count": null,
   "id": "88b4a98b",
   "metadata": {},
   "outputs": [],
   "source": [
    "# checking if there is any missing data\n",
    "new_movies.duplicated().sum()\n",
    "\n",
    "# no duplicate data so continue"
   ]
  },
  {
   "cell_type": "code",
   "execution_count": null,
   "id": "1ce54a71",
   "metadata": {},
   "outputs": [],
   "source": [
    "# now we are gonna convert genre, keywords, cast, crew to required form\n",
    "# in genres and keywords there are list of distionaries and we only need names of genres and keywords\n",
    "new_movies.iloc[0].genres\n",
    "\n",
    "\n",
    "# the data in genres is a string, to convert string to dictionaries"
   ]
  },
  {
   "cell_type": "code",
   "execution_count": null,
   "id": "ce2c59a8",
   "metadata": {},
   "outputs": [],
   "source": [
    "def convert_dictionary_to_names(obj):\n",
    "    l=[]\n",
    "    for i in ast.literal_eval(obj):\n",
    "        # the data in genres is a string, to convert string to dictionaries we use ast.literal_eval\n",
    "        l.append(i['name'])\n",
    "    return l"
   ]
  },
  {
   "cell_type": "code",
   "execution_count": null,
   "id": "865fc188",
   "metadata": {},
   "outputs": [],
   "source": [
    "new_movies['genres']  #before applying convert_dictionary_to_names function"
   ]
  },
  {
   "cell_type": "code",
   "execution_count": null,
   "id": "4c073428",
   "metadata": {},
   "outputs": [],
   "source": [
    "new_movies['keywords']  #before applying convert_dictionary_to_names function"
   ]
  },
  {
   "cell_type": "code",
   "execution_count": null,
   "id": "1a390be7",
   "metadata": {},
   "outputs": [],
   "source": [
    "new_movies['genres']=new_movies['genres'].apply(convert_dictionary_to_names)\n",
    "new_movies['keywords']=new_movies['keywords'].apply(convert_dictionary_to_names)"
   ]
  },
  {
   "cell_type": "code",
   "execution_count": null,
   "id": "e17048b7",
   "metadata": {},
   "outputs": [],
   "source": [
    "new_movies['genres']  #after applying convert_dictionary_to_names function"
   ]
  },
  {
   "cell_type": "code",
   "execution_count": null,
   "id": "d22791ec",
   "metadata": {},
   "outputs": [],
   "source": [
    "new_movies['keywords']  #after applying convert_dictionary_to_names function"
   ]
  },
  {
   "cell_type": "code",
   "execution_count": null,
   "id": "f229ddd3",
   "metadata": {},
   "outputs": [],
   "source": [
    "new_movies['cast'][0]\n",
    "\n",
    "# from this we only require the names of first 3 actors/actresses as they are the most relevant"
   ]
  },
  {
   "cell_type": "code",
   "execution_count": null,
   "id": "adb70997",
   "metadata": {},
   "outputs": [],
   "source": [
    "# gives back names of top 3 cast members\n",
    "def convert_cast(obj):\n",
    "    l=[]\n",
    "    counter=0\n",
    "    for i in ast.literal_eval(obj):\n",
    "        # the data in genres is a string, to convert string to dictionaries we use ast.literal_eval\n",
    "        if counter>=3:\n",
    "            break\n",
    "        l.append(i['name'])\n",
    "        counter+=1\n",
    "    return l"
   ]
  },
  {
   "cell_type": "code",
   "execution_count": null,
   "id": "e503b294",
   "metadata": {},
   "outputs": [],
   "source": [
    "new_movies['cast']=new_movies['cast'].apply(convert_cast)"
   ]
  },
  {
   "cell_type": "code",
   "execution_count": null,
   "id": "44c4fe0a",
   "metadata": {},
   "outputs": [],
   "source": [
    "new_movies['cast'][0]"
   ]
  },
  {
   "cell_type": "code",
   "execution_count": null,
   "id": "ca904a37",
   "metadata": {},
   "outputs": [],
   "source": [
    "new_movies['crew'][0]\n",
    "\n",
    "# we only require the name of the DIRECTOR"
   ]
  },
  {
   "cell_type": "code",
   "execution_count": null,
   "id": "14f22407",
   "metadata": {},
   "outputs": [],
   "source": [
    "# gives back the name of the director\n",
    "def convert_crew(obj):\n",
    "    l=[]\n",
    "    for i in ast.literal_eval(obj):\n",
    "        if i['job']=='Director':\n",
    "            l.append(i['name'])\n",
    "            break\n",
    "    return l"
   ]
  },
  {
   "cell_type": "code",
   "execution_count": null,
   "id": "5fa69a69",
   "metadata": {},
   "outputs": [],
   "source": [
    "new_movies['crew']=new_movies['crew'].apply(convert_crew)"
   ]
  },
  {
   "cell_type": "code",
   "execution_count": null,
   "id": "f8afdd91",
   "metadata": {},
   "outputs": [],
   "source": [
    "new_movies['crew'][0]"
   ]
  },
  {
   "cell_type": "code",
   "execution_count": null,
   "id": "c16fc99d",
   "metadata": {},
   "outputs": [],
   "source": [
    "new_movies['overview'][0]"
   ]
  },
  {
   "cell_type": "code",
   "execution_count": null,
   "id": "81847bd3",
   "metadata": {},
   "outputs": [],
   "source": [
    "# initially the overview is a string, we convert into a list\n",
    "new_movies['overview'] = new_movies['overview'].apply(lambda x:x.split(\" \"))"
   ]
  },
  {
   "cell_type": "code",
   "execution_count": null,
   "id": "1ad6b0e9",
   "metadata": {},
   "outputs": [],
   "source": [
    "new_movies.head()"
   ]
  },
  {
   "cell_type": "code",
   "execution_count": null,
   "id": "0c423f4d",
   "metadata": {},
   "outputs": [],
   "source": [
    "# here we remove the spaces between the elements of genres, keywords, overview, cast and crew\n",
    "# for example Zoe Saldana becomes ZoeSaldana\n",
    "# This is done so that the model doesn't get confused between Chris Evans and Chris Prat when a tag Chris comes up\n",
    "# They will be converted to ChrisEvans and ChrisPrat and they are completely different tags\n",
    "\n",
    "\n",
    "new_movies['genres']=new_movies['genres'].apply(lambda x: [i.replace(\" \", \"\") for i in x])\n",
    "new_movies['keywords']=new_movies['keywords'].apply(lambda x: [i.replace(\" \", \"\") for i in x])\n",
    "new_movies['overview']=new_movies['overview'].apply(lambda x: [i.replace(\" \", \"\") for i in x])\n",
    "new_movies['cast']=new_movies['cast'].apply(lambda x: [i.replace(\" \", \"\") for i in x])\n",
    "new_movies['crew']=new_movies['crew'].apply(lambda x: [i.replace(\" \", \"\") for i in x])"
   ]
  },
  {
   "cell_type": "code",
   "execution_count": null,
   "id": "62e81f4c",
   "metadata": {},
   "outputs": [],
   "source": [
    "new_movies.head()"
   ]
  },
  {
   "cell_type": "code",
   "execution_count": null,
   "id": "9e9d48c1",
   "metadata": {},
   "outputs": [],
   "source": [
    "# creating a new column, tags, that is the concatenation of keywords, genres, overview, cast, crew\n",
    "new_movies['tags']=new_movies['keywords'] + new_movies['genres'] +new_movies['overview']+new_movies['cast']+new_movies['crew']"
   ]
  },
  {
   "cell_type": "code",
   "execution_count": null,
   "id": "91974425",
   "metadata": {},
   "outputs": [],
   "source": [
    "new_movies.head()"
   ]
  },
  {
   "cell_type": "code",
   "execution_count": null,
   "id": "7f1d7af2",
   "metadata": {},
   "outputs": [],
   "source": [
    "# converting tags form list to string\n",
    "\n",
    "new_movies['tags']=new_movies['tags'].apply(lambda x: \" \".join(x))\n"
   ]
  },
  {
   "cell_type": "code",
   "execution_count": null,
   "id": "069ad795",
   "metadata": {},
   "outputs": [],
   "source": [
    "# converting tags to lowercase so there is no problem in computation\n",
    "\n",
    "new_movies['tags']=new_movies['tags'].apply(lambda x: x.lower())"
   ]
  },
  {
   "cell_type": "code",
   "execution_count": null,
   "id": "c6bf8913",
   "metadata": {},
   "outputs": [],
   "source": [
    "new_movies['tags'][0]"
   ]
  },
  {
   "cell_type": "code",
   "execution_count": null,
   "id": "eeac80a0",
   "metadata": {},
   "outputs": [],
   "source": [
    "#  PorterStemmer is used to perform stemming over the tags\n",
    "Stemming is reducing words to their root words, inorder to avoid repeating of words that represent similar things\n",
    "for example love, loved, loving, loves are different words. After stemming they will be converted to love\n",
    "\n",
    "from nltk.stem.porter import PorterStemmer\n",
    "ps=PorterStemmer()"
   ]
  },
  {
   "cell_type": "code",
   "execution_count": null,
   "id": "12836d1c",
   "metadata": {},
   "outputs": [],
   "source": [
    "def stemi(text):\n",
    "    y=[]\n",
    "    \n",
    "    for i in text.split():\n",
    "        y.append(ps.stem(i))\n",
    "        \n",
    "    return \" \".join(y)"
   ]
  },
  {
   "cell_type": "code",
   "execution_count": null,
   "id": "7cec2be1",
   "metadata": {},
   "outputs": [],
   "source": [
    "new_movies['tags'] = new_movies['tags'].apply(stemi)"
   ]
  },
  {
   "cell_type": "code",
   "execution_count": null,
   "id": "93cedc7c",
   "metadata": {},
   "outputs": [],
   "source": [
    "new_movies['tags'][0]"
   ]
  },
  {
   "cell_type": "code",
   "execution_count": null,
   "id": "4c3ff637",
   "metadata": {},
   "outputs": [],
   "source": [
    "new_movies.head()"
   ]
  },
  {
   "cell_type": "code",
   "execution_count": null,
   "id": "d304d011",
   "metadata": {},
   "outputs": [],
   "source": [
    "# creating the final dataframe to apply model to\n",
    "final_movies=new_movies[['title', 'id', 'tags']]"
   ]
  },
  {
   "cell_type": "code",
   "execution_count": null,
   "id": "b5c581b2",
   "metadata": {},
   "outputs": [],
   "source": [
    "final_movies.head()"
   ]
  },
  {
   "cell_type": "code",
   "execution_count": null,
   "id": "f5b0f830",
   "metadata": {},
   "outputs": [],
   "source": [
    "# sklearn function to perform vectorization of the data.\n",
    "# this function basically takes a specific number of words which have the most frequency of appearance\n",
    "# this doesn't include stop words like is, am, the etc\n",
    "# then based on these words, every movie gets converted into a vector with a specific number of elements (here we take 5000 words)\n",
    "\n",
    "from sklearn.feature_extraction.text import CountVectorizer\n",
    "cv=CountVectorizer(max_features=5000, stop_words='english')"
   ]
  },
  {
   "cell_type": "code",
   "execution_count": null,
   "id": "4d076b29",
   "metadata": {},
   "outputs": [],
   "source": [
    "vectors = cv.fit_transform(final_movies['tags']).toarray()"
   ]
  },
  {
   "cell_type": "code",
   "execution_count": null,
   "id": "69e041b2",
   "metadata": {},
   "outputs": [],
   "source": [
    "vectors.shape"
   ]
  },
  {
   "cell_type": "code",
   "execution_count": null,
   "id": "5205af1d",
   "metadata": {},
   "outputs": [],
   "source": [
    "cv.get_feature_names_out()"
   ]
  },
  {
   "cell_type": "code",
   "execution_count": null,
   "id": "92caaa9b",
   "metadata": {},
   "outputs": [],
   "source": [
    "# this function calculates the similarity of every vector with every other vector\n",
    "# this function uses and angle between the vector to denote the similarity (or inverse of distance), rather than the eucledian distance\n",
    "# similarity ranges form 0-1\n",
    "# the higher the number, more similar the movies\n",
    "\n",
    "from sklearn.metrics.pairwise import cosine_similarity"
   ]
  },
  {
   "cell_type": "code",
   "execution_count": null,
   "id": "edeef799",
   "metadata": {},
   "outputs": [],
   "source": [
    "similarity = cosine_similarity(vectors)"
   ]
  },
  {
   "cell_type": "code",
   "execution_count": null,
   "id": "cbdb0453",
   "metadata": {},
   "outputs": [],
   "source": [
    "similarity[1]"
   ]
  },
  {
   "cell_type": "code",
   "execution_count": null,
   "id": "ceaddeff",
   "metadata": {},
   "outputs": [],
   "source": [
    "# This function takes the movie name (case sensitive) and provide 5 similar movies\n",
    "def recommend(movie):\n",
    "    index=final_movies[final_movies['title']==movie].index[0]\n",
    "    distances=similarity[index]\n",
    "    distances=list(enumerate(distances))\n",
    "    movies_list = sorted(distances, reverse=True, key=lambda x:x[1])[1:6]\n",
    "    recomended_movies=[]\n",
    "    for i in movies_list:\n",
    "        print(final_movies.iloc[i[0]].title)\n"
   ]
  },
  {
   "cell_type": "code",
   "execution_count": null,
   "id": "fa39feff",
   "metadata": {},
   "outputs": [],
   "source": [
    "# This function akes an array of all movies titles as argument and provide 5 movies at random\n",
    "def get_random(movies):\n",
    "    y=random.choices(movies, k=5)\n",
    "    return y"
   ]
  },
  {
   "cell_type": "code",
   "execution_count": null,
   "id": "f2b633b6",
   "metadata": {},
   "outputs": [],
   "source": [
    "# This is the main driver code\n",
    "\n",
    "print(\"Welcome to the Movie recommender system!!\")\n",
    "\n",
    "to_continue=True\n",
    "while(to_continue):\n",
    "    choice=input(\"Type Random to get 5 random movies, or type Recommend to get similar movies to your favorite movie \").lower()\n",
    "    print()\n",
    "    if choice==\"random\":\n",
    "        movie_titles=final_movies['title'].to_numpy()\n",
    "        y=get_random(movie_titles)\n",
    "        for i in y:\n",
    "            print(i)\n",
    "    \n",
    "    elif choice==\"recommend\":\n",
    "        my_movie=input(\"Type your favorite movie (Case Sensitive) \")\n",
    "        print()\n",
    "        recommend(my_movie)\n",
    "    \n",
    "    else:\n",
    "        print(\"Couldn't understand your command \")\n",
    "        print()\n",
    "        \n",
    "    cont=input(\"press Y to run again, N to quit \").lower()\n",
    "    print()\n",
    "    print()\n",
    "    if cont=='n':\n",
    "        to_continue=False\n",
    "        print(\"Thank you for your time, have a nice day \")\n",
    "\n",
    "\n",
    "\n"
   ]
  }
 ],
 "metadata": {
  "kernelspec": {
   "display_name": "Python 3 (ipykernel)",
   "language": "python",
   "name": "python3"
  },
  "language_info": {
   "codemirror_mode": {
    "name": "ipython",
    "version": 3
   },
   "file_extension": ".py",
   "mimetype": "text/x-python",
   "name": "python",
   "nbconvert_exporter": "python",
   "pygments_lexer": "ipython3",
   "version": "3.11.3"
  }
 },
 "nbformat": 4,
 "nbformat_minor": 5
}
